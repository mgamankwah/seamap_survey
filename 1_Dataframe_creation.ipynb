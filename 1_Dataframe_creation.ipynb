{
 "cells": [
  {
   "cell_type": "markdown",
   "id": "f4737514",
   "metadata": {},
   "source": [
    "#Creating a Dataframe\n",
    "\n",
    "The purpose of this notebook is to create a dataframe from the SEAMAP data.\n"
   ]
  },
  {
   "cell_type": "code",
   "execution_count": null,
   "id": "e75ba2f3",
   "metadata": {},
   "outputs": [],
   "source": [
    "import numpy as np\n",
    "import pandas as pd\n",
    "from datetime import datetime\n",
    "import matplotlib.pyplot  as plt"
   ]
  }
 ],
 "metadata": {
  "kernelspec": {
   "display_name": "Python 3",
   "language": "python",
   "name": "python3"
  },
  "language_info": {
   "codemirror_mode": {
    "name": "ipython",
    "version": 3
   },
   "file_extension": ".py",
   "mimetype": "text/x-python",
   "name": "python",
   "nbconvert_exporter": "python",
   "pygments_lexer": "ipython3",
   "version": "3.12.0"
  }
 },
 "nbformat": 4,
 "nbformat_minor": 5
}
